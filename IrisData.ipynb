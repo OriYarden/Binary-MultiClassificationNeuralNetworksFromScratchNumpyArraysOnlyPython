{
  "nbformat": 4,
  "nbformat_minor": 0,
  "metadata": {
    "colab": {
      "provenance": []
    },
    "kernelspec": {
      "name": "python3",
      "display_name": "Python 3"
    },
    "language_info": {
      "name": "python"
    }
  },
  "cells": [
    {
      "cell_type": "code",
      "execution_count": null,
      "metadata": {
        "id": "sQ-MQbZXnY-u"
      },
      "outputs": [],
      "source": [
        "# Binary Classification Iris Data (Labels: setosa = 1; versicolor = 0);\n",
        "import numpy as np\n",
        "import pandas as pd\n",
        "df = pd.read_csv('https://archive.ics.uci.edu/ml/machine-learning-databases/iris/iris.data', header=None)\n",
        "df.tail()\n",
        "_y = df.iloc[:100, 4].values\n",
        "x = df.iloc[:_y.shape[0], :4].values\n",
        "y = np.zeros((len(_y), 1)).astype(float)\n",
        "for i in range(len(_y)):\n",
        "    if _y[i].endswith('setosa'):\n",
        "        y[i, 0] = 1.0"
      ]
    },
    {
      "cell_type": "code",
      "source": [
        "# Multiple Classification Iris Data (Labels: setosa = [1, 0, 0]; versicolor = [0, 1, 0]; virginica = [0, 0, 1]);\n",
        "import numpy as np\n",
        "import pandas as pd\n",
        "df = pd.read_csv('https://archive.ics.uci.edu/ml/machine-learning-databases/iris/iris.data', header=None)\n",
        "df.tail()\n",
        "_y = df.iloc[:150, 4].values\n",
        "x = df.iloc[:_y.shape[0], :4].values\n",
        "y = np.zeros((len(_y), 3)).astype(float)\n",
        "for i in range(len(_y)):\n",
        "    if _y[i].endswith('setosa'):\n",
        "        y[i, 0] = 1.0\n",
        "    elif _y[i].endswith('versicolor'):\n",
        "        y[i, 1] = 1.0\n",
        "    elif _y[i].endswith('virginica'):\n",
        "        y[i, -1] = 1.0"
      ],
      "metadata": {
        "id": "93Xqyy4Ynh_M"
      },
      "execution_count": null,
      "outputs": []
    }
  ]
}